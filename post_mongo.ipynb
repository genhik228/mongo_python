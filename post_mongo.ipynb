{
 "cells": [
  {
   "cell_type": "markdown",
   "metadata": {
    "id": "hTsetD3TeXBA"
   },
   "source": [
    "# Post Запрос на вставку"
   ]
  },
  {
   "cell_type": "code",
   "execution_count": null,
   "metadata": {
    "colab": {
     "base_uri": "https://localhost:8080/"
    },
    "id": "QULPnOGFY7-Q",
    "outputId": "00213c5f-8791-45c2-8893-9f3ac5d2c2d6"
   },
   "outputs": [
    {
     "name": "stdout",
     "output_type": "stream",
     "text": [
      "{\"insertedId\":\"6213d6301f8abecd6056a72a\"}\n"
     ]
    }
   ],
   "source": [
    "import requests\n",
    "import json\n",
    "collection = \" \"\n",
    "database = \" \"\n",
    "dataSource = \" \"\n",
    "apikey = ' '\n",
    "data = ''\n",
    "url = f\"https://data.mongodb-api.com/app/{data}/endpoint/data/beta/action/insertOne\"\n",
    "Name, temperature, humidity, MQ2, Sound, motion_count, sound_count = \"Room 1\", 22, 17, 227, 156, 0 ,0\n",
    "payload = json.dumps({\n",
    "    \"collection\": f\"{collection}\",\n",
    "    \"database\": f\"{database}\",\n",
    "    \"dataSource\": f\"{dataSource}\",\n",
    "    \"document\": {\n",
    "        \"Name\": Name,\n",
    "              \"temperature\": temperature,\n",
    "              \"humidity\": humidity,\n",
    "              \"MQ2\": MQ2,\n",
    "              \"Sound\": Sound,\n",
    "              \"motion_count\": motion_count,\n",
    "              \"sound_count\": motion_count\n",
    "    }\n",
    "})\n",
    "\n",
    "headers = {\n",
    "    'Content-Type': 'application/json',\n",
    "    'Access-Control-Request-Headers': '*',\n",
    "    'api-key': f'{apikey}'\n",
    "}\n",
    "response = requests.request(\"POST\", url, headers=headers, data=payload)\n",
    "print(response.text)"
   ]
  },
  {
   "cell_type": "markdown",
   "metadata": {
    "id": "1o9Ldh3ufSKp"
   },
   "source": [
    "# Post Запрос на поиск"
   ]
  },
  {
   "cell_type": "code",
   "execution_count": null,
   "metadata": {
    "colab": {
     "base_uri": "https://localhost:8080/"
    },
    "id": "FQLA01So7-zn",
    "outputId": "d443c373-8efc-407c-e347-4923d395f9b8"
   },
   "outputs": [
    {
     "name": "stdout",
     "output_type": "stream",
     "text": [
      "{'document': {'_id': '6212b0b5eae757d198e3bb29', 'Name': 'Room 1'}}\n"
     ]
    }
   ],
   "source": [
    "import requests\n",
    "import json\n",
    "url = f\"https://data.mongodb-api.com/app/{data}/endpoint/data/beta/action/findOne\"\n",
    "payload = json.dumps({\n",
    "    \"collection\": \"room\",\n",
    "    \"database\": \"db\",\n",
    "    \"dataSource\": \"Cluster0\",\n",
    "    \"projection\": {\n",
    "        \"Name\": \"Room 1\"\n",
    "    }\n",
    "})\n",
    "headers = {\n",
    "    'Content-Type': 'application/json',\n",
    "    'Access-Control-Request-Headers': '*',\n",
    "    'api-key': ''\n",
    "}\n",
    "response = requests.request(\"POST\", url, headers=headers, data=payload)\n",
    "print(response.json())"
   ]
  }
 ],
 "metadata": {
  "colab": {
   "collapsed_sections": [],
   "name": "post-mongo.ipynb",
   "provenance": []
  },
  "kernelspec": {
   "display_name": "Python 3",
   "language": "python",
   "name": "python3"
  },
  "language_info": {
   "codemirror_mode": {
    "name": "ipython",
    "version": 3
   },
   "file_extension": ".py",
   "mimetype": "text/x-python",
   "name": "python",
   "nbconvert_exporter": "python",
   "pygments_lexer": "ipython3",
   "version": "3.8.3"
  }
 },
 "nbformat": 4,
 "nbformat_minor": 1
}
